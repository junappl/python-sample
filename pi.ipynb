{
 "cells": [
  {
   "cell_type": "markdown",
   "metadata": {},
   "source": [
    "# モンテカルロ法を用いて円周率を求める"
   ]
  },
  {
   "cell_type": "code",
   "execution_count": 23,
   "metadata": {},
   "outputs": [
    {
     "name": "stdout",
     "output_type": "stream",
     "text": [
      "3.14932\n"
     ]
    }
   ],
   "source": [
    "import random\n",
    "\n",
    "# 乱数の発生回数\n",
    "imax = 100000\n",
    "\n",
    "n = 0\n",
    "\n",
    "for i in range(imax):\n",
    "    x = random.random()\n",
    "    y = random.random()\n",
    "\n",
    "    # 0<=x,y<=1の範囲にある中心原点半径1の扇形の中に乱数による点が入ったらカウントする\n",
    "    if x * x + y * y < 1.0:                   \n",
    "        n += 1.0\n",
    "\n",
    "pi = n / imax * 4.0\n",
    "print(pi)"
   ]
  },
  {
   "cell_type": "code",
   "execution_count": null,
   "metadata": {},
   "outputs": [],
   "source": []
  }
 ],
 "metadata": {
  "kernelspec": {
   "display_name": "Python 3",
   "language": "python",
   "name": "python3"
  },
  "language_info": {
   "codemirror_mode": {
    "name": "ipython",
    "version": 3
   },
   "file_extension": ".py",
   "mimetype": "text/x-python",
   "name": "python",
   "nbconvert_exporter": "python",
   "pygments_lexer": "ipython3",
   "version": "3.7.3"
  }
 },
 "nbformat": 4,
 "nbformat_minor": 2
}
